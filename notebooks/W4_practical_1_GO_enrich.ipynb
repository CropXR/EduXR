{
  "cells": [
    {
      "cell_type": "markdown",
      "metadata": {
        "id": "d0OggqAbXXgm"
      },
      "source": [
        "# W4 practical"
      ]
    },
    {
      "cell_type": "markdown",
      "metadata": {
        "id": "wC8Nu4jviULE"
      },
      "source": [
        "## 📝 Learning goals of practical\n",
        "\n",
        "- You can describe how GO enrichment is applied in combination with clustering\n",
        "\n",
        "- You can list how GO enrichment can be used to propose new experiments"
      ]
    },
    {
      "cell_type": "markdown",
      "metadata": {
        "id": "1Rw6Rmy1XcIA"
      },
      "source": [
        "## Setup"
      ]
    },
    {
      "cell_type": "code",
      "execution_count": null,
      "metadata": {},
      "outputs": [],
      "source": [
        "%pip install pyvis goatools"
      ]
    },
    {
      "cell_type": "code",
      "execution_count": null,
      "metadata": {},
      "outputs": [],
      "source": [
        "import sys\n",
        "if \"google.colab\" in sys.modules:\n",
        "    %pip install git+https://github.com/CropXR/EduXR.git\n",
        "else:\n",
        "    %load_ext autoreload\n",
        "    %autoreload 2\n",
        "from dsplantbreeding.clustering import read_and_cluster_expression_data, show_genes_per_cluster\n",
        "from goatools.obo_parser import GODag\n",
        "from goatools.anno.gaf_reader import GafReader\n",
        "from dsplantbreeding.go_enrichment import show_annotations_of_gene, perform_go_enrichment"
      ]
    },
    {
      "cell_type": "code",
      "execution_count": null,
      "metadata": {},
      "outputs": [],
      "source": [
        "# Expression data we looked at in week 2\n",
        "!wget https://raw.githubusercontent.com/CropXR/EduXR/refs/heads/main/data/biotic_transcriptomics.txt\n",
        "# Gene Ontology annotations\n",
        "!wget https://raw.githubusercontent.com/CropXR/EduXR/refs/heads/main/data/go-basic.obo\n",
        "!wget https://raw.githubusercontent.com/CropXR/EduXR/refs/heads/main/data/tair.gaf"
      ]
    },
    {
      "cell_type": "markdown",
      "metadata": {},
      "source": [
        "### ❓Questions\n",
        "\n",
        "- What does this dataset represent? (It's the same one we looked at in week 2.)\n",
        "- Let's look at the clustering again. What number of clusters would you say is appropriate? You can change both the number of clusters and the linkage that is used. (E.g. `'complete'`, `'average'`, or `'single'`). \n",
        "- Which of these clusters shows an expression pattern that looks promising for studying resistance to this biotic stress?"
      ]
    },
    {
      "cell_type": "code",
      "execution_count": null,
      "metadata": {},
      "outputs": [],
      "source": [
        "clustered_df = read_and_cluster_expression_data('biotic_transcriptomics.txt', n_clusters=1, linkage_method='complete')"
      ]
    },
    {
      "cell_type": "markdown",
      "metadata": {},
      "source": [
        "Now we can see the genes that are in each module:"
      ]
    },
    {
      "cell_type": "code",
      "execution_count": null,
      "metadata": {},
      "outputs": [],
      "source": [
        "show_genes_per_cluster(clustered_df)"
      ]
    },
    {
      "cell_type": "markdown",
      "metadata": {},
      "source": [
        "But how do we find out more about these genes than only their names?\n",
        "\n",
        "Annotation data is available for Arabidopsis genes. Let's load this data."
      ]
    },
    {
      "cell_type": "code",
      "execution_count": null,
      "metadata": {},
      "outputs": [],
      "source": [
        "godag = GODag(\"go-basic.obo\")  \n",
        "tair_gaf = GafReader(\"tair.gaf\")"
      ]
    },
    {
      "cell_type": "markdown",
      "metadata": {},
      "source": [
        "Pick one of the genes from the list above, and let's see what's known about it. Since GO is an 'ontology', we can plot the hierarchy of this gene's annotations as well."
      ]
    },
    {
      "cell_type": "code",
      "execution_count": null,
      "metadata": {},
      "outputs": [],
      "source": [
        "show_annotations_of_gene(\"GENE_ID_HERE\", tair_gaf, godag)"
      ]
    },
    {
      "cell_type": "markdown",
      "metadata": {},
      "source": [
        "### ❓Questions\n",
        "- What functional annotations does your gene have? Is each GO term equally specific?\n",
        "- What is a disadvantage of looking only at annotations of a single gene? Do you think all the GO terms you find for your gene make sense?\n"
      ]
    },
    {
      "cell_type": "markdown",
      "metadata": {},
      "source": [
        "Now let's do an enrichment study on the cluster you are interested in."
      ]
    },
    {
      "cell_type": "code",
      "execution_count": null,
      "metadata": {},
      "outputs": [],
      "source": [
        "perform_go_enrichment(clustered_df, cluster_id=WHICH_CLUSTER, tair_gaf=tair_gaf, godag=godag)"
      ]
    },
    {
      "cell_type": "markdown",
      "metadata": {},
      "source": [
        "GO terms colored by P-value:\n",
        "- pval < 0.005 (light red)\n",
        "- pval < 0.01 (light orange)\n",
        "- pval < 0.05 (yellow)\n",
        "- pval > 0.05 (grey) Study terms that are not statistically significant"
      ]
    },
    {
      "cell_type": "markdown",
      "metadata": {},
      "source": [
        "### ❓Questions\n",
        "- Do you think the enriched GO terms of the cluster make sense, looking at their expression profile in the expression matrix? \n",
        "- What is the goal of GO enrichment analysis?\n",
        "- How would you use these enriched GO terms to inform subsequent experiments. E.g. what would you like to measure?\n",
        "- Can you use this methodology to explain what seems to cause the gene expression changes in the plant at 1 hour after infection?"
      ]
    },
    {
      "cell_type": "markdown",
      "metadata": {},
      "source": [
        "If you have extra time you can change the clustering and/or do GO enrichment studies for other clusters to see if you can get even more insights from this data."
      ]
    }
  ],
  "metadata": {
    "accelerator": "GPU",
    "colab": {
      "gpuType": "T4",
      "provenance": [],
      "toc_visible": true
    },
    "kernelspec": {
      "display_name": "ds_c1",
      "language": "python",
      "name": "python3"
    },
    "language_info": {
      "codemirror_mode": {
        "name": "ipython",
        "version": 3
      },
      "file_extension": ".py",
      "mimetype": "text/x-python",
      "name": "python",
      "nbconvert_exporter": "python",
      "pygments_lexer": "ipython3",
      "version": "3.12.11"
    }
  },
  "nbformat": 4,
  "nbformat_minor": 0
}
