{
  "cells": [
    {
      "cell_type": "markdown",
      "metadata": {
        "id": "d0OggqAbXXgm"
      },
      "source": [
        "# W4 practical"
      ]
    },
    {
      "cell_type": "markdown",
      "metadata": {
        "id": "wC8Nu4jviULE"
      },
      "source": [
        "## 📝 Learning goals of practical\n",
        "\n",
        "- You can describe describe what an ortholog is, how it is found, and how it can be used to translate experiments from *A. thaliana* to crops."
      ]
    },
    {
      "cell_type": "markdown",
      "metadata": {
        "id": "1Rw6Rmy1XcIA"
      },
      "source": [
        "Select one gene you thought was interesting from the biotic stress dataset. Using existing databases we will look for orthologues of this gene in other species.\n",
        "\n",
        "\n",
        "- Step 1: Look up the gene name at [Ensembl Plant](https://plants.ensembl.org/Arabidopsis_thaliana/Info/Index), if it shows up in the search results (which it should), click on it.\n",
        "- Step 2: Check if it has orthologs by clicking on 'orthologues' in the left column."
      ]
    },
    {
      "cell_type": "markdown",
      "metadata": {},
      "source": [
        "### ❓Questions\n",
        "- Why is finding orthologs of *A. thaliana* genes important for crop resilience research?\n",
        "- Does the gene you picked have orthologs? In what species?\n",
        "- Repeat the previous steps for some other genes from the previous practical to see if they have orthologs.  Why do you think some genes have more orthologs than others?\n",
        "\n"
      ]
    },
    {
      "cell_type": "markdown",
      "metadata": {},
      "source": [
        "\n",
        "Also click on the gene (loss) tree to check the evolutionary history. \n",
        "\n",
        "### ❓Questions\n",
        "- What does this show exactly?\n",
        "- Why are orthologous relations sometimes one-to-one, one-to-many, or many-to-many?\n",
        "\n"
      ]
    },
    {
      "cell_type": "markdown",
      "metadata": {},
      "source": [
        "\n",
        "For a gene and its ortholog, look at their alignment by clicking \"View Sequence Alignment\". \n",
        "\n",
        "### ❓Questions\n",
        "- Do you agree that these two genes are orthologous? Why is the alignment not a perfect match?\n",
        "- Perhaps for the orthologous gene you can even find some literature, does that match with the function of the gene in  *A. thaliana*?\n"
      ]
    }
  ],
  "metadata": {
    "accelerator": "GPU",
    "colab": {
      "gpuType": "T4",
      "provenance": [],
      "toc_visible": true
    },
    "kernelspec": {
      "display_name": "ds_c1",
      "language": "python",
      "name": "python3"
    },
    "language_info": {
      "codemirror_mode": {
        "name": "ipython",
        "version": 3
      },
      "file_extension": ".py",
      "mimetype": "text/x-python",
      "name": "python",
      "nbconvert_exporter": "python",
      "pygments_lexer": "ipython3",
      "version": "3.12.11"
    }
  },
  "nbformat": 4,
  "nbformat_minor": 0
}
