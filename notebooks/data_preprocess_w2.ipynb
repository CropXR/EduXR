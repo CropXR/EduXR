{
 "cells": [
  {
   "cell_type": "markdown",
   "id": "0d275724",
   "metadata": {},
   "source": [
    "Some code I used to quickly clean up the dataset for practical 1 of week 2. \n",
    "\n",
    "Downloaded from: *High-Throughput RNA Sequencing of Pseudomonas-Infected Arabidopsis Reveals Hidden Transcriptome Complexity and Novel Splice Variants* by [Howard et al. (2013)](https://doi.org/10.1371/journal.pone.0074183).\n"
   ]
  },
  {
   "cell_type": "code",
   "execution_count": 1,
   "id": "b3487217",
   "metadata": {},
   "outputs": [],
   "source": [
    "%load_ext autoreload\n",
    "%autoreload 2"
   ]
  },
  {
   "cell_type": "code",
   "execution_count": 8,
   "id": "7d09af19",
   "metadata": {},
   "outputs": [],
   "source": [
    "from dsplantbreeding.Datasets.parsing import biotic_stress_dataset_parsing\n",
    "from pathlib import Path"
   ]
  },
  {
   "cell_type": "code",
   "execution_count": 9,
   "id": "d00283d2",
   "metadata": {},
   "outputs": [
    {
     "data": {
      "text/plain": [
       "PosixPath('/home/bnoordijk/vscode_projects/EduXR_minor/notebooks')"
      ]
     },
     "execution_count": 9,
     "metadata": {},
     "output_type": "execute_result"
    }
   ],
   "source": [
    "Path('').resolve()"
   ]
  },
  {
   "cell_type": "code",
   "execution_count": 10,
   "id": "bbc37190",
   "metadata": {},
   "outputs": [
    {
     "name": "stderr",
     "output_type": "stream",
     "text": [
      "<string>:16: FutureWarning: DataFrame.groupby with axis=1 is deprecated. Do `frame.T.groupby(...)` without axis instead.\n"
     ]
    }
   ],
   "source": [
    "in_path = '../data/pone.0074183.s003.xlsx'\n",
    "biotic_stress_dataset_parsing(in_path, out_path='../data/biotic_transcriptomics.txt',)"
   ]
  }
 ],
 "metadata": {
  "kernelspec": {
   "display_name": "ds_c1",
   "language": "python",
   "name": "python3"
  },
  "language_info": {
   "codemirror_mode": {
    "name": "ipython",
    "version": 3
   },
   "file_extension": ".py",
   "mimetype": "text/x-python",
   "name": "python",
   "nbconvert_exporter": "python",
   "pygments_lexer": "ipython3",
   "version": "3.12.11"
  }
 },
 "nbformat": 4,
 "nbformat_minor": 5
}
