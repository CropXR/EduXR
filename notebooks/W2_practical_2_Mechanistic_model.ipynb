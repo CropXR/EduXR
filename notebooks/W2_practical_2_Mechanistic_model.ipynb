{
 "cells": [
  {
   "cell_type": "markdown",
   "id": "489b53ee",
   "metadata": {},
   "source": [
    "### 📝 Learning goals of practical\n",
    "\n",
    "- You can describe how to apply mechanistic modelling to a transcriptomics dataset\n",
    "\n",
    "- You can discuss the goals of mechanistic modelling when applied to transcriptomics data\n",
    "\n",
    "- You can explain how mechanistic modelling can make predictions of gene regulatory networks"
   ]
  },
  {
   "cell_type": "code",
   "execution_count": null,
   "id": "688fa695",
   "metadata": {},
   "outputs": [],
   "source": [
    "try:\n",
    "    %load_ext autoreload\n",
    "    %autoreload 2\n",
    "except ModuleNotFoundError:\n",
    "    %pip install git+https://github.com/CropXR/EduXR.git"
   ]
  },
  {
   "cell_type": "code",
   "execution_count": null,
   "id": "28db26ff",
   "metadata": {},
   "outputs": [],
   "source": [
    "from dsplantbreeding.Models import get_biotic_stress_grn\n",
    "from dsplantbreeding.actions import make_stress_pulse"
   ]
  },
  {
   "cell_type": "markdown",
   "id": "0dacce9c",
   "metadata": {},
   "source": [
    "First we will load a gene regulatory network that was built using existing knowledge of the field (e.g. what transcription factors regulate what genes) and by what stresses these TFs might be activated. Typically these models take a long time to create and require a lot of experiments and prior knowledge to build upon.\n",
    "\n",
    "Here we will use a mechanistic model inspired by [this paper](https://doi.org/10.1016/j.stress.2025.100887) (which was also discussed in the Plant Science lecture). It models how tabacco responds to drought stress and how this influences its ability to defend itself from biotic stress (White flies)."
   ]
  },
  {
   "cell_type": "markdown",
   "id": "d4f7dfd8",
   "metadata": {},
   "source": [
    "### ❓Questions\n",
    "\n",
    "- Have a look at the paper, what gene(s) are important for drought resistance, and which for white fly resistance?"
   ]
  },
  {
   "cell_type": "markdown",
   "id": "b77a8917",
   "metadata": {},
   "source": [
    "Let's have a look at the gene regulatory network model we'll be working with. Many of its aspects will be 'kept under the hood' for you, so you will just be able to play around and see how such models can be insightful."
   ]
  },
  {
   "cell_type": "code",
   "execution_count": null,
   "id": "54eff70f",
   "metadata": {},
   "outputs": [],
   "source": [
    "model = get_biotic_stress_grn()\n",
    "model.plot_network()"
   ]
  },
  {
   "cell_type": "markdown",
   "id": "75790d32",
   "metadata": {},
   "source": [
    "### ❓Questions\n",
    "\n",
    "- How do you think the network will respond when there is no drought stress?"
   ]
  },
  {
   "cell_type": "code",
   "execution_count": null,
   "id": "de95648f",
   "metadata": {},
   "outputs": [],
   "source": [
    "model.reset_knockouts()\n",
    "model.simulate(stress_func=None)"
   ]
  },
  {
   "cell_type": "markdown",
   "id": "9ccca2d5",
   "metadata": {},
   "source": [
    "### ❓Questions\n",
    "\n",
    "- In this case, does the plant have white fly resistance? Why does, or doesn't it?\n",
    "- What do you think will happen when we provide a brief drought stress pulse?"
   ]
  },
  {
   "cell_type": "markdown",
   "id": "b1daa64f",
   "metadata": {},
   "source": [
    "Let's try it!"
   ]
  },
  {
   "cell_type": "code",
   "execution_count": null,
   "id": "616b82f7",
   "metadata": {},
   "outputs": [],
   "source": [
    "pulse_stress = make_stress_pulse(start=10, end=11)\n",
    "model.reset_knockouts()\n",
    "model.simulate(stress_func=pulse_stress)"
   ]
  },
  {
   "cell_type": "markdown",
   "id": "7854d712",
   "metadata": {},
   "source": [
    "### ❓Questions\n",
    "\n",
    "- Can you explain this behaviour? Use your knowledge of gene regulation and the mechanistic model.\n",
    "- Why would it make sense for a plant to have such a mechanism?\n",
    "- What do you expect will happen to white fly resistance when we lengthen the drought pulse? Do that below"
   ]
  },
  {
   "cell_type": "code",
   "execution_count": null,
   "id": "04b378d8",
   "metadata": {},
   "outputs": [],
   "source": [
    "# Write the code here to simulate a longer stress pulse"
   ]
  },
  {
   "cell_type": "markdown",
   "id": "774d53fd",
   "metadata": {},
   "source": [
    "### ❓Questions\n",
    "- Can you explain why we see a different response when there is a longer stress pulse?\n",
    "- Does this model reflect the true underlying biology? Why does or doesn't it?\n",
    "- What gene(s) do you think can be knocked out to change the response? Try that below.\n"
   ]
  },
  {
   "cell_type": "code",
   "execution_count": null,
   "id": "b45591a6",
   "metadata": {},
   "outputs": [],
   "source": [
    "model.reset_knockouts()\n",
    "model.knock_out(\"CHOOSE A GENE\")\n",
    "model.simulate(stress_func=pulse_stress)"
   ]
  },
  {
   "cell_type": "markdown",
   "id": "39a4d5dd",
   "metadata": {},
   "source": [
    "If you have time left, try to find the combination(s) of knocked out genes that will give you the 'best' phenotype according to this model. Do you think doing this would be realistic biologically? What next experiments would you propose to carry out? How would you communicate such findings to a biologist?"
   ]
  },
  {
   "cell_type": "markdown",
   "id": "e42c49ef",
   "metadata": {},
   "source": [
    "Also, such networks underlying developmental biology of plants. Open [this link](https://slcu.uniofcam.dev/teamrv/3devo-evo) and click \"Genome Editor\" to start building your own gene regulatory network and try to create the prettiest possible plant."
   ]
  }
 ],
 "metadata": {
  "kernelspec": {
   "display_name": "ds_c1",
   "language": "python",
   "name": "python3"
  },
  "language_info": {
   "codemirror_mode": {
    "name": "ipython",
    "version": 3
   },
   "file_extension": ".py",
   "mimetype": "text/x-python",
   "name": "python",
   "nbconvert_exporter": "python",
   "pygments_lexer": "ipython3",
   "version": "3.12.11"
  }
 },
 "nbformat": 4,
 "nbformat_minor": 5
}
