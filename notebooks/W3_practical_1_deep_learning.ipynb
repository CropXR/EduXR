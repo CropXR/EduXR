{
  "cells": [
    {
      "cell_type": "markdown",
      "metadata": {
        "id": "d0OggqAbXXgm"
      },
      "source": [
        "# W3 practical"
      ]
    },
    {
      "cell_type": "markdown",
      "metadata": {
        "id": "wC8Nu4jviULE"
      },
      "source": [
        "## 📝 Learning goals of practical\n",
        "\n",
        "- You can discuss how and why to use train/test splits for training machine learning models\n",
        "\n",
        "- You can explain how overfitting of neural networks can arise and give an example of how to combat this\n",
        "\n",
        "- You can reflect on neural networks' dependence on (unbiased) training data\n",
        "\n",
        "- You can list various methods of assessing model performance and discuss their up- and downsides."
      ]
    },
    {
      "cell_type": "markdown",
      "metadata": {
        "id": "z3UoLLAmTzvt"
      },
      "source": [
        "TIP: To speed up learning these deep neural networks. In the top right next to 'RAM', click the upside down triangle, select 'Change runtime type' and click 'GPU'.\n",
        "\n"
      ]
    },
    {
      "cell_type": "markdown",
      "metadata": {
        "id": "1Rw6Rmy1XcIA"
      },
      "source": [
        "## Data setup and inspection\n",
        "\n",
        "In this practical you will train a model to classify tomato leaves that have been infected by some biotic stress. While doing so, we will also investigate how a model's dependence on data can be misleading, and perhaps even harmful."
      ]
    },
    {
      "cell_type": "code",
      "execution_count": null,
      "metadata": {
        "id": "r34ax87O-iD-"
      },
      "outputs": [],
      "source": [
        "!git clone https://github.com/gabrieldgf4/PlantVillage-Dataset.git\n",
        "!pip install git+https://github.com/CropXR/EduXR.git"
      ]
    },
    {
      "cell_type": "code",
      "execution_count": null,
      "metadata": {
        "id": "BfEEpe75Nfou"
      },
      "outputs": [],
      "source": [
        "import matplotlib.pyplot as plt\n",
        "import seaborn as sns\n",
        "from sklearn.metrics import confusion_matrix\n",
        "from collections import Counter\n",
        "import tensorflow as tf\n",
        "from tensorflow import keras\n",
        "import numpy as np\n",
        "from pathlib import Path\n",
        "from dsplantbreeding.Datasets.biotic_stress_images import get_image_biotic_stress_dataset\n",
        "from dsplantbreeding.actions import count_labels_in_dataset, decrease_brightness_on_label, augment_image, preview_images, show_classification_examples\n",
        "from dsplantbreeding.metrics import show_accuracy, show_confusion_matrix, show_auroc\n",
        "from dsplantbreeding.Models import train_dl_model, get_the_best_model_ever"
      ]
    },
    {
      "cell_type": "code",
      "execution_count": null,
      "metadata": {
        "id": "cRqhND3__qPI"
      },
      "outputs": [],
      "source": [
        "# We will only investigate Tomato healthy vs infected.\n",
        "base_dir = Path('/content/PlantVillage-Dataset')\n",
        "healthy_dir = base_dir / 'Tomato___healthy'\n",
        "infected_dirs = list(base_dir.glob('Tomato___[!healthy]*'))\n",
        "infected_dirs"
      ]
    },
    {
      "cell_type": "markdown",
      "metadata": {
        "id": "Kbidzvb5iTbb"
      },
      "source": [
        "N.b. here we group the infected into one category, but we could also train our model to predict each of the categories separately."
      ]
    },
    {
      "cell_type": "code",
      "execution_count": null,
      "metadata": {
        "id": "QOup700bA0jX"
      },
      "outputs": [],
      "source": [
        "dataset = get_image_biotic_stress_dataset(healthy_dir, infected_dirs)"
      ]
    },
    {
      "cell_type": "code",
      "execution_count": null,
      "metadata": {
        "id": "fNmfCFHqNHEn"
      },
      "outputs": [],
      "source": [
        "preview_images(dataset)"
      ]
    },
    {
      "cell_type": "markdown",
      "metadata": {
        "id": "-4Dtcw1YHnPd"
      },
      "source": [
        "This is the 'human readable input'. But what does the input for the model 'look' like?"
      ]
    },
    {
      "cell_type": "code",
      "execution_count": null,
      "metadata": {
        "id": "J6qWVj8NHnDh"
      },
      "outputs": [],
      "source": [
        "dataset.as_numpy_iterator().next()"
      ]
    },
    {
      "cell_type": "markdown",
      "metadata": {
        "id": "LeSkwpkAKlea"
      },
      "source": [
        "### ❓Questions\n",
        "\n",
        "- What do these numbers represent exactly?"
      ]
    },
    {
      "cell_type": "code",
      "execution_count": null,
      "metadata": {
        "id": "BXD0WxC5EW9s"
      },
      "outputs": [],
      "source": [
        "train_dataset, validation_dataset = keras.utils.split_dataset(dataset, left_size=0.8, shuffle=True)"
      ]
    },
    {
      "cell_type": "markdown",
      "metadata": {
        "id": "zaEKLV9zVDF5"
      },
      "source": [
        "### ❓Questions\n",
        "\n",
        "- Why do we split the data into train and test data?\n",
        "- List some things that should be taken into consideration when splitting data into train and test."
      ]
    },
    {
      "cell_type": "markdown",
      "metadata": {
        "id": "3ahrzzofYU4t"
      },
      "source": [
        "## Using the best model\n",
        "\n",
        "Here I will provide you with a model I developed that has 90% accuracy! It's now up to you to evaluate if you agree that this is indeed the best model ever."
      ]
    },
    {
      "cell_type": "code",
      "execution_count": null,
      "metadata": {
        "id": "lSSF8-UKCZdd"
      },
      "outputs": [],
      "source": [
        "test_model = get_the_best_model_ever()\n",
        "show_accuracy(test_model, validation_dataset)"
      ]
    },
    {
      "cell_type": "markdown",
      "metadata": {
        "id": "tK9_XlBSS0wj"
      },
      "source": [
        "### ❓Questions\n",
        "\n",
        "- With this accuracy, do you think you would use this model? What extra steps would you take to look further into the classification performance?"
      ]
    },
    {
      "cell_type": "markdown",
      "metadata": {
        "id": "SBFFyF8dYOCw"
      },
      "source": [
        "Let's look at the number of different classes in the dataset."
      ]
    },
    {
      "cell_type": "code",
      "execution_count": null,
      "metadata": {
        "id": "To8Gmkg6NcN2"
      },
      "outputs": [],
      "source": [
        "count_labels_in_dataset(dataset)"
      ]
    },
    {
      "cell_type": "markdown",
      "metadata": {
        "id": "DIcJCGRNYGKa"
      },
      "source": [
        "### ❓Questions\n",
        "\n",
        "- Does this class distribution change your view on the model's accuracy score?"
      ]
    },
    {
      "cell_type": "markdown",
      "metadata": {
        "id": "GyRdGiIBTEgU"
      },
      "source": [
        "Let's investigate this model further by plotting a confusion matrix and receiver operating curve."
      ]
    },
    {
      "cell_type": "code",
      "execution_count": null,
      "metadata": {
        "id": "4wpVo-GcCe8U"
      },
      "outputs": [],
      "source": [
        "show_confusion_matrix(test_model, validation_dataset)"
      ]
    },
    {
      "cell_type": "code",
      "execution_count": null,
      "metadata": {
        "id": "elVuNqbhCfep"
      },
      "outputs": [],
      "source": [
        "show_auroc(test_model, validation_dataset)"
      ]
    },
    {
      "cell_type": "markdown",
      "metadata": {
        "id": "9abKtVYYTNd6"
      },
      "source": [
        "### ❓Questions\n",
        "\n",
        "- Explain what both visualisations show exactly.\n",
        "- Based on these evaluations, does the model provide useful predictions?"
      ]
    },
    {
      "cell_type": "markdown",
      "metadata": {
        "id": "qDWKWG6xUyI7"
      },
      "source": [
        "##  Deep learning\n",
        "Now let's train a deep learning model to see if it can outperform the model you just used. In this case we use a convolutional neural network, which is a special form of the neural network we discussed in the lecture."
      ]
    },
    {
      "cell_type": "code",
      "execution_count": null,
      "metadata": {
        "id": "bkmDAECyCRXL"
      },
      "outputs": [],
      "source": [
        "model = train_dl_model(train_dataset, validation_dataset, epochs=3)"
      ]
    },
    {
      "cell_type": "markdown",
      "metadata": {
        "id": "u_UexMbYVhBt"
      },
      "source": [
        "Let's look at the raw outputs of the neural network. Here are the outputs for 10 images."
      ]
    },
    {
      "cell_type": "code",
      "execution_count": null,
      "metadata": {
        "id": "MVL4X9CzVk5-"
      },
      "outputs": [],
      "source": [
        "model.predict(train_dataset.batch(10).take(1))"
      ]
    },
    {
      "cell_type": "markdown",
      "metadata": {
        "id": "oPYwIo_kTv8z"
      },
      "source": [
        "### ❓Questions\n",
        "\n",
        "- What does this predicted number represent?\n",
        "- What would have to be modified in the neural network model to change it into a multi-class classifier?\n",
        "-How would that impact performance?"
      ]
    },
    {
      "cell_type": "markdown",
      "metadata": {
        "id": "LlDhGIqJZdB2"
      },
      "source": [
        "Again let's evaluate the performance of the model we just trained."
      ]
    },
    {
      "cell_type": "code",
      "execution_count": null,
      "metadata": {
        "id": "26xThS8yw-uQ"
      },
      "outputs": [],
      "source": [
        "show_confusion_matrix(model, train_dataset)"
      ]
    },
    {
      "cell_type": "code",
      "execution_count": null,
      "metadata": {
        "id": "Ew26T2ZvxBVn"
      },
      "outputs": [],
      "source": [
        "show_confusion_matrix(model, validation_dataset)"
      ]
    },
    {
      "cell_type": "code",
      "execution_count": null,
      "metadata": {
        "id": "tFusz-WMnXJZ"
      },
      "outputs": [],
      "source": [
        "show_auroc(model, validation_dataset)"
      ]
    },
    {
      "cell_type": "markdown",
      "metadata": {
        "id": "2T-9OGteZnmE"
      },
      "source": [
        "### ❓Questions\n",
        "\n",
        "- Which confusion matrix is more useful? The one on the train dataset or the test dataset?\n",
        "- Would you prefer this deep learning model over the model you tested earlier?"
      ]
    },
    {
      "cell_type": "markdown",
      "metadata": {
        "id": "zox7ap6wZ0vD"
      },
      "source": [
        "Let's look at some example misclassifications:"
      ]
    },
    {
      "cell_type": "code",
      "execution_count": null,
      "metadata": {
        "id": "JDlix3Q-N02w"
      },
      "outputs": [],
      "source": [
        "show_classification_examples(model, validation_dataset)"
      ]
    },
    {
      "cell_type": "markdown",
      "metadata": {
        "id": "dJX5WuxxBqH4"
      },
      "source": [
        "Let's simulate a case in which for the training dataset all the healthy leaves were photographed slightly darker than infected leaves, perhaps because the farmer visited the infected field later in the day. In the validation dataset (i.e. the dataset other farmers might apply this model on) the opposite was the case. How do you think this will impact model performance?"
      ]
    },
    {
      "cell_type": "code",
      "execution_count": null,
      "metadata": {
        "id": "NrqgUe9dFbrh"
      },
      "outputs": [],
      "source": [
        "dataset = get_image_biotic_stress_dataset(healthy_dir, infected_dirs)\n",
        "\n",
        "train_dataset, validation_dataset = keras.utils.split_dataset(dataset, left_size=0.8, shuffle=True)\n",
        "\n",
        "# Dim healthy (label 0)\n",
        "train_ds = train_dataset.map(decrease_brightness_on_label(0))\n",
        "# Dim infected (label 1)\n",
        "val_ds = validation_dataset.map(decrease_brightness_on_label(1))"
      ]
    },
    {
      "cell_type": "code",
      "execution_count": null,
      "metadata": {
        "id": "jT9xfh5uyE9Z"
      },
      "outputs": [],
      "source": [
        "preview_images(train_ds)"
      ]
    },
    {
      "cell_type": "code",
      "execution_count": null,
      "metadata": {
        "id": "tc3vUbcnx6lJ"
      },
      "outputs": [],
      "source": [
        "preview_images(val_ds)"
      ]
    },
    {
      "cell_type": "code",
      "execution_count": null,
      "metadata": {
        "id": "p5yDnVDzgRiK"
      },
      "outputs": [],
      "source": [
        "model = train_dl_model(train_ds, val_ds, epochs=2)\n",
        "show_confusion_matrix(model, val_ds)"
      ]
    },
    {
      "cell_type": "code",
      "execution_count": null,
      "metadata": {
        "id": "uhLJRC8rVa8g"
      },
      "outputs": [],
      "source": [
        "show_classification_examples(model, val_ds)"
      ]
    },
    {
      "cell_type": "markdown",
      "metadata": {
        "id": "ID_cRrR4Qvlu"
      },
      "source": [
        "### ❓Questions\n",
        "\n",
        "- How would you explain these results?\n",
        "- Could you think of method(s) to fix this?"
      ]
    },
    {
      "cell_type": "markdown",
      "metadata": {
        "id": "bN6wyLJAQ0CB"
      },
      "source": [
        "## How to fix it?"
      ]
    },
    {
      "cell_type": "markdown",
      "metadata": {
        "id": "kde5YfZ3yd21"
      },
      "source": [
        "One way to mitigate this problem we just encountered is through image augmentation!"
      ]
    },
    {
      "cell_type": "code",
      "execution_count": null,
      "metadata": {
        "id": "nYC6Wt4ckjuO"
      },
      "outputs": [],
      "source": [
        "augmented_train_ds = train_ds.map(augment_image)\n",
        "preview_images(augmented_train_ds)"
      ]
    },
    {
      "cell_type": "markdown",
      "metadata": {
        "id": "XtqLymg_Re_t"
      },
      "source": [
        "Assignment: fill in the code below to train a model on this augmented data and evaluate its performance"
      ]
    },
    {
      "cell_type": "code",
      "execution_count": null,
      "metadata": {
        "id": "2Cslm5_RBPK1"
      },
      "outputs": [],
      "source": [
        "model = train_dl_model(train_dataset=FILL_IN, validation_dataset=FILL_IN, epochs=2)\n",
        "show_confusion_matrix(model, FILL_IN)\n",
        "show_auroc(model, FILL_IN)\n",
        "show_classification_examples(model, FILL_IN)"
      ]
    },
    {
      "cell_type": "markdown",
      "metadata": {
        "id": "eO3QwJzk_ghU"
      },
      "source": [
        "### ❓Questions\n",
        "\n",
        "- Explain how image augmentation aids generalisability.\n",
        "- If you have extra time, pick one or more of these questions to investigate:\n",
        "  -  How is model performance changed if you shrink the dataset or change the class distribution?\n",
        "  -  Can the classifer be applied to a species different than tomato\n",
        "  - Can you think or find other evaluation metrics that would be useful?"
      ]
    }
  ],
  "metadata": {
    "accelerator": "GPU",
    "colab": {
      "gpuType": "T4",
      "provenance": [],
      "toc_visible": true
    },
    "kernelspec": {
      "display_name": "Python 3",
      "name": "python3"
    },
    "language_info": {
      "name": "python"
    }
  },
  "nbformat": 4,
  "nbformat_minor": 0
}
