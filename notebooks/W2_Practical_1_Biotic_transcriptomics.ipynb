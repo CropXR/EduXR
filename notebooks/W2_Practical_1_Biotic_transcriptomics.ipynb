{
  "cells": [
    {
      "cell_type": "markdown",
      "metadata": {
        "id": "uGlzq7ktqBT9"
      },
      "source": [
        "# 📝 Learning goals of practical\n",
        "\n",
        "- You can describe how to apply hierarchical clustering to a transcriptomics dataset\n",
        "\n",
        "- You can discuss the goals of unsupervised machine learning when applied to transcriptomics data"
      ]
    },
    {
      "cell_type": "markdown",
      "metadata": {
        "id": "93PpQkVpnBQ1"
      },
      "source": [
        "In this practical, we will explore RNA-seq data from the study:\n",
        "\n",
        "*High-Throughput RNA Sequencing of Pseudomonas-Infected Arabidopsis Reveals Hidden Transcriptome Complexity and Novel Splice Variants* by [Howard et al. (2013)](https://doi.org/10.1371/journal.pone.0074183)"
      ]
    },
    {
      "cell_type": "markdown",
      "metadata": {
        "id": "E6eT-M2mtP7H"
      },
      "source": [
        "### ❓Questions\n",
        "Have a look at the paper.\n",
        "\n",
        "- What three treatments are the plants subjected to?\n",
        "\n",
        "- What is the goal of these three treatments?"
      ]
    },
    {
      "cell_type": "markdown",
      "metadata": {},
      "source": [
        "# Hierarchical Clustering\n",
        "\n",
        "Let's perform hierarchical clustering on this dataset."
      ]
    },
    {
      "cell_type": "code",
      "execution_count": null,
      "metadata": {
        "id": "v3FDrh_nRpK4"
      },
      "outputs": [],
      "source": [
        "# These cells set up everything\n",
        "\n",
        "%pip install -q observable_jupyter==0.1.10 clustergrammer2 fastcluster\n",
        "\n",
        "import sys\n",
        "if \"google.colab\" in sys.modules:\n",
        "    %pip install git+https://github.com/CropXR/EduXR.git\n",
        "    from google.colab import files\n",
        "else:\n",
        "    %load_ext autoreload\n",
        "    %autoreload 2\n",
        "\n",
        "from clustergrammer2 import net\n",
        "import seaborn as sns\n",
        "import networkx as nx\n",
        "import matplotlib.pyplot as plt\n",
        "from observable_jupyter import embed\n",
        "import pandas as pd\n",
        "from IPython.display import Javascript\n",
        "from pyvis.network import Network\n",
        "import networkx as nx\n",
        "\n",
        "from IPython.core.display import display, HTML\n",
        "import matplotlib.cm as cm\n",
        "import matplotlib.colors as mcolors\n",
        "\n",
        "def resize_colab_cell():\n",
        "  display(Javascript('google.colab.output.setIframeHeight(0, true, {maxHeight: 5000})'))\n",
        "get_ipython().events.register('pre_run_cell', resize_colab_cell)\n",
        "\n",
        "!wget https://raw.githubusercontent.com/CropXR/EduXR/refs/heads/main/data/biotic_transcriptomics.txt\n",
        "net.load_file('biotic_transcriptomics.txt')\n",
        "net.cluster(dist_type='correlation', linkage_type='average')"
      ]
    },
    {
      "cell_type": "markdown",
      "metadata": {
        "id": "GC-TwHqCpIMN"
      },
      "source": [
        "Now we can display a heatmap of the samples and their (normalised) gene expressions:"
      ]
    },
    {
      "cell_type": "code",
      "execution_count": null,
      "metadata": {
        "colab": {
          "base_uri": "https://localhost:8080/",
          "height": 1025
        },
        "id": "VfCebnlQapts",
        "outputId": "8193b0f1-d9fc-49c4-b64a-c4df9f2d9b7b"
      },
      "outputs": [],
      "source": [
        "plt.figure(figsize=(10, 10))\n",
        "df = pd.read_csv('biotic_transcriptomics.txt', sep='\\t', header=[0], index_col=0, skiprows=[1,2])\n",
        "g= sns.clustermap(df, metric='correlation', method='average', cmap=\"vlag\", vmin=-2, vmax=2)\n",
        "g.ax_heatmap.set_yticks([])\n",
        "g.ax_heatmap.set_yticklabels([])\n",
        "plt.show()"
      ]
    },
    {
      "cell_type": "markdown",
      "metadata": {
        "id": "1IPafUWFpgoy"
      },
      "source": [
        "### ❓Questions\n",
        "\n",
        "- Is the avirulent sample more similar to the virulent sample or the mock sample?\n",
        "\n",
        "- Does the treatment or the time point play a bigger role for clustering the samples?\n",
        "\n",
        "- Could you explain the clustering? What does it tell you about the relation between the samples?"
      ]
    },
    {
      "cell_type": "markdown",
      "metadata": {
        "id": "_MWqwxBkp7EW"
      },
      "source": [
        "We can also show you an interactive plot of this. Adjust the sliders on the right and bottom to find the clustering cutoff. By clicking on the trapezoid that belongs to a cluster you can select the group of genes."
      ]
    },
    {
      "cell_type": "code",
      "execution_count": null,
      "metadata": {
        "colab": {
          "base_uri": "https://localhost:8080/",
          "height": 1071
        },
        "id": "IcqBHenfFsDD",
        "outputId": "812cfd23-cd53-49ea-9ac2-d91ae1464710"
      },
      "outputs": [],
      "source": [
        "embed('@cornhundred/clustergrammer-gl', cells=['clustergrammer'],  inputs={'network': net.viz})"
      ]
    },
    {
      "cell_type": "markdown",
      "metadata": {
        "id": "oXeuszdvpqwc"
      },
      "source": [
        "### ❓Questions\n",
        "- How many gene clusters do you think is most appropriate for this dataset? Why?\n",
        "\n",
        "- Change the clustering parameters, what differences do you observe?\n",
        "\n",
        "- What group(s) of genes would be most interesting to study?\n"
      ]
    },
    {
      "cell_type": "markdown",
      "metadata": {
        "id": "S9OFw27hrfFN"
      },
      "source": [
        "If you have extra time you can further investigate through what biological process the genes you found are important for stress response, for example by looking up information about them in  databases such as [UniProt](https://www.uniprot.org/). Can you link the genes to certain processes? How does that relate to what you find in literature about this response?"
      ]
    },
    {
      "cell_type": "markdown",
      "metadata": {},
      "source": [
        "# Correlation network"
      ]
    },
    {
      "cell_type": "code",
      "execution_count": null,
      "metadata": {},
      "outputs": [],
      "source": [
        "def plot_correlation_network(df: pd.DataFrame, threshold: float = 0.9, colour_by=None, interactive=False):\n",
        "    \"\"\"_summary_\n",
        "\n",
        "    Args:\n",
        "        df (pd.DataFrame): Gene expression dataframe\n",
        "        threshold (float, optional): Cutoff above which to draw edge between nodes. Defaults to 0.9.\n",
        "        colour_by (str, optional): 'degree', 'betweenness', or 'closeness'. Defaults to None.\n",
        "    \"\"\"\n",
        "    colour_by_to_func = {'degree': nx.degree_centrality, 'betweenness': nx.betweenness_centrality, 'closeness': nx.closeness_centrality}\n",
        "    # 1. Compute correlation matrix\n",
        "    corr_matrix = df.T.corr(method=\"pearson\") \n",
        "\n",
        "    # 2. Threshold correlations (you don’t want every edge, it’d be spaghetti)\n",
        "    edges = [\n",
        "        (gene1, gene2, corr_matrix.loc[gene1, gene2])\n",
        "        for gene1 in corr_matrix.index\n",
        "        for gene2 in corr_matrix.columns\n",
        "        if gene1 < gene2 and corr_matrix.loc[gene1, gene2] > threshold\n",
        "    ]\n",
        "\n",
        "    # 3. Build network\n",
        "    G = nx.Graph()\n",
        "    G.add_weighted_edges_from(edges)\n",
        "\n",
        "    if colour_by:\n",
        "        node_color_metric = colour_by_to_func[colour_by](G)\n",
        "        # Print top 10 genes by this metric\n",
        "        top10 = sorted(node_color_metric.items(), key=lambda x: x[1], reverse=True)[:10]\n",
        "        print(\"Top 10 genes by centrality:\")\n",
        "        for gene, value in top10:\n",
        "            print(f\"{gene}: {value:.4f}\")\n",
        "\n",
        "        # Normalise colours for plotting\n",
        "        values = [node_color_metric[node] for node in G.nodes()]\n",
        "    else:\n",
        "        values = \"#1f78b4\"\n",
        "\n",
        "    if not interactive:\n",
        "        # 4. Plot\n",
        "        plt.figure(figsize=(10, 8))\n",
        "        pos = nx.kamada_kawai_layout(G)\n",
        "        nx.draw_networkx_nodes(G, pos, node_size=10, node_color=values, cmap=plt.cm.viridis)\n",
        "        nx.draw_networkx_edges(G, pos, alpha=0.1)\n",
        "        # nx.draw_networkx_labels(G, pos, font_size=6)\n",
        "        plt.title(\"Gene Correlation Network\")\n",
        "        plt.axis(\"off\")\n",
        "        plt.show()\n",
        "    else:\n",
        "        # Create pyvis network\n",
        "        net = Network(notebook=True, cdn_resources='in_line', select_menu=True)\n",
        "        norm = mcolors.Normalize(vmin=min(values), vmax=max(values))\n",
        "        cmap = cm.get_cmap(\"viridis\")\n",
        "        # Add nodes with colormap\n",
        "        for node, centrality in node_color_metric.items():\n",
        "            rgba = cmap(norm(centrality))\n",
        "            hex_color = mcolors.to_hex(rgba)\n",
        "            net.add_node(\n",
        "                node,\n",
        "                title=f\"{node}<br>Centrality: {centrality:.4f}\",\n",
        "                value=centrality*10,  # adjust size if needed\n",
        "                color=hex_color,\n",
        "            )\n",
        "\n",
        "        # Add edges\n",
        "        for u, v in G.edges():\n",
        "            net.add_edge(u, v)\n",
        "\n",
        "        net.set_options(\n",
        "        \"\"\"\n",
        "        {\n",
        "        \"physics\": {\n",
        "            \"forceAtlas2Based\": {\n",
        "            \"theta\": 0.9,\n",
        "            \"gravitationalConstant\": -10,\n",
        "            \"springLength\": 5,\n",
        "            \"springConstant\": 0.05,\n",
        "            \"damping\": 0.7\n",
        "            },\n",
        "            \"maxVelocity\": 20,\n",
        "            \"minVelocity\": 0.75,\n",
        "            \"solver\": \"forceAtlas2Based\",\n",
        "            \"timestep\": 0.5\n",
        "        }\n",
        "        }\n",
        "        \"\"\"\n",
        "        )\n",
        "        net.show(\"nx.html\")\n",
        "\n",
        "        display(HTML('nx.html'))\n",
        "        \n",
        "plot_correlation_network(df, threshold=0.9)"
      ]
    },
    {
      "cell_type": "markdown",
      "metadata": {},
      "source": [
        "### ❓Questions\n",
        "- What happens as you change the correlation threshold?\n",
        "- Is there a relationship between the hierarchical clustering shown above and the tightly connected nodes you find in this network?"
      ]
    },
    {
      "cell_type": "markdown",
      "metadata": {},
      "source": [
        "Now explore some node metrics to identify genes that could be worth studying. You can replace `degree` by `betweenness`, or `closeness` to colour nodes based on other properties. How would you interpret these metrics biologically?"
      ]
    },
    {
      "cell_type": "code",
      "execution_count": null,
      "metadata": {},
      "outputs": [],
      "source": [
        "plot_correlation_network(df, threshold=0.9, colour_by='degree', interactive=True)"
      ]
    }
  ],
  "metadata": {
    "colab": {
      "provenance": []
    },
    "kernelspec": {
      "display_name": "ds_c1",
      "language": "python",
      "name": "python3"
    },
    "language_info": {
      "codemirror_mode": {
        "name": "ipython",
        "version": 3
      },
      "file_extension": ".py",
      "mimetype": "text/x-python",
      "name": "python",
      "nbconvert_exporter": "python",
      "pygments_lexer": "ipython3",
      "version": "3.12.11"
    }
  },
  "nbformat": 4,
  "nbformat_minor": 0
}
