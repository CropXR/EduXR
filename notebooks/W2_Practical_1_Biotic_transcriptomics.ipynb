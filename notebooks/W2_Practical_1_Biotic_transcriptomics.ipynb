{
  "cells": [
    {
      "cell_type": "markdown",
      "metadata": {
        "id": "uGlzq7ktqBT9"
      },
      "source": [
        "# 📝 Learning goals of practical\n",
        "\n",
        "- You can describe how to apply hierarchical clustering to a transcriptomics dataset\n",
        "\n",
        "- You can discuss the goals of unsupervised machine learning when applied to transcriptomics data"
      ]
    },
    {
      "cell_type": "markdown",
      "metadata": {
        "id": "93PpQkVpnBQ1"
      },
      "source": [
        "In this practical, we will explore RNA-seq data from the study:\n",
        "\n",
        "*High-Throughput RNA Sequencing of Pseudomonas-Infected Arabidopsis Reveals Hidden Transcriptome Complexity and Novel Splice Variants* by [Howard et al. (2013)](https://doi.org/10.1371/journal.pone.0074183)"
      ]
    },
    {
      "cell_type": "markdown",
      "metadata": {
        "id": "E6eT-M2mtP7H"
      },
      "source": [
        "### ❓Questions\n",
        "Have a look at the paper.\n",
        "\n",
        "- What three treatments are the plants subjected to?\n",
        "\n",
        "- What is the goal of these three treatments?"
      ]
    },
    {
      "cell_type": "markdown",
      "metadata": {},
      "source": [
        "# Hierarchical Clustering\n",
        "\n",
        "Let's perform hierarchical clustering on this dataset."
      ]
    },
    {
      "cell_type": "code",
      "execution_count": null,
      "metadata": {
        "id": "v3FDrh_nRpK4"
      },
      "outputs": [],
      "source": [
        "%pip install -q observable_jupyter==0.1.10 clustergrammer2 fastcluster pyvis\n",
        "\n",
        "import sys\n",
        "if \"google.colab\" in sys.modules:\n",
        "    %pip install git+https://github.com/CropXR/EduXR.git\n",
        "    from google.colab import files\n",
        "else:\n",
        "    %load_ext autoreload\n",
        "    %autoreload 2\n",
        "\n",
        "from clustergrammer2 import net\n",
        "import seaborn as sns\n",
        "import matplotlib.pyplot as plt\n",
        "from observable_jupyter import embed\n",
        "import pandas as pd\n",
        "from IPython.display import Javascript\n",
        "\n",
        "from dsplantbreeding.clustering import plot_correlation_network\n",
        "from IPython.core.display import display\n",
        "\n",
        "\n",
        "def resize_colab_cell():\n",
        "  display(Javascript('google.colab.output.setIframeHeight(0, true, {maxHeight: 5000})'))\n",
        "get_ipython().events.register('pre_run_cell', resize_colab_cell)\n",
        "\n",
        "!wget https://raw.githubusercontent.com/CropXR/EduXR/refs/heads/main/data/biotic_transcriptomics.txt\n",
        "net.load_file('biotic_transcriptomics.txt')\n",
        "net.cluster(dist_type='correlation', linkage_type='average')"
      ]
    },
    {
      "cell_type": "markdown",
      "metadata": {
        "id": "GC-TwHqCpIMN"
      },
      "source": [
        "Now we can display a heatmap of the samples and their (normalised) gene expressions:"
      ]
    },
    {
      "cell_type": "code",
      "execution_count": null,
      "metadata": {
        "colab": {
          "base_uri": "https://localhost:8080/",
          "height": 1025
        },
        "id": "VfCebnlQapts",
        "outputId": "8193b0f1-d9fc-49c4-b64a-c4df9f2d9b7b"
      },
      "outputs": [],
      "source": [
        "plt.figure(figsize=(10, 10))\n",
        "df = pd.read_csv('biotic_transcriptomics.txt', sep='\\t', header=[0], index_col=0, skiprows=[1,2])\n",
        "g = sns.clustermap(df, metric='correlation', method='average', cmap=\"vlag\", vmin=-2, vmax=2)\n",
        "g.ax_heatmap.set_yticks([])\n",
        "g.ax_heatmap.set_yticklabels([])\n",
        "plt.show()"
      ]
    },
    {
      "cell_type": "markdown",
      "metadata": {
        "id": "1IPafUWFpgoy"
      },
      "source": [
        "### ❓Questions\n",
        "- What do the rows and columns represent? What do the colours mean?\n",
        "\n",
        "- Is the avirulent sample more similar to the virulent sample or the mock sample?\n",
        "\n",
        "- Does the treatment or the time point play a bigger role for clustering the samples?\n",
        "\n",
        "- Could you explain the clustering? What does it tell you about the relation between the samples?"
      ]
    },
    {
      "cell_type": "markdown",
      "metadata": {
        "id": "_MWqwxBkp7EW"
      },
      "source": [
        "We can also show you an interactive plot of this. Adjust the sliders on the right and bottom to find the clustering cutoff. By clicking on the trapezoid that belongs to a cluster you can select the group of genes."
      ]
    },
    {
      "cell_type": "code",
      "execution_count": null,
      "metadata": {
        "colab": {
          "base_uri": "https://localhost:8080/",
          "height": 1071
        },
        "id": "IcqBHenfFsDD",
        "outputId": "812cfd23-cd53-49ea-9ac2-d91ae1464710"
      },
      "outputs": [],
      "source": [
        "embed('@cornhundred/clustergrammer-gl', cells=['clustergrammer'],  inputs={'network': net.viz})"
      ]
    },
    {
      "cell_type": "markdown",
      "metadata": {
        "id": "oXeuszdvpqwc"
      },
      "source": [
        "### ❓Questions\n",
        "- How many gene clusters do you think is most appropriate for this dataset? Why?\n",
        "\n",
        "- Change the clustering parameters, what differences do you observe?\n",
        "\n",
        "- What group(s) of genes would be most interesting to study? Why?\n"
      ]
    },
    {
      "cell_type": "markdown",
      "metadata": {
        "id": "S9OFw27hrfFN"
      },
      "source": [
        "If you have extra time you can further investigate through what biological process the genes you found are important for stress response, for example by looking up information about them in  databases such as [UniProt](https://www.uniprot.org/). Can you link the genes to certain processes? How does that relate to what you find in literature about this response?"
      ]
    },
    {
      "cell_type": "markdown",
      "metadata": {},
      "source": [
        "# Correlation network"
      ]
    },
    {
      "cell_type": "code",
      "execution_count": null,
      "metadata": {},
      "outputs": [],
      "source": [
        "plot_correlation_network(df, threshold=0.9)"
      ]
    },
    {
      "cell_type": "markdown",
      "metadata": {},
      "source": [
        "### ❓Questions\n",
        "- What happens as you change the correlation threshold?\n",
        "- What could be the biological meaning of two nodes being connected in the network?\n",
        "- Is there a relationship between the hierarchical clustering shown above and the tightly connected nodes you find in this network?"
      ]
    },
    {
      "cell_type": "markdown",
      "metadata": {},
      "source": [
        "Now explore some node metrics to identify genes that could be worth studying. You can replace `degree` by `betweenness`, or `closeness` to colour nodes based on other properties. "
      ]
    },
    {
      "cell_type": "code",
      "execution_count": null,
      "metadata": {},
      "outputs": [],
      "source": [
        "plot_correlation_network(df, threshold=0.9, interactive=True, colour_by='degree',)"
      ]
    },
    {
      "cell_type": "markdown",
      "metadata": {},
      "source": [
        "###  ❓Questions\n",
        "- How would you interpret these metrics biologically?\n",
        "- When working with a plant biologist, what experiment would you suggest for further study?"
      ]
    }
  ],
  "metadata": {
    "colab": {
      "provenance": []
    },
    "kernelspec": {
      "display_name": "ds_c1",
      "language": "python",
      "name": "python3"
    },
    "language_info": {
      "codemirror_mode": {
        "name": "ipython",
        "version": 3
      },
      "file_extension": ".py",
      "mimetype": "text/x-python",
      "name": "python",
      "nbconvert_exporter": "python",
      "pygments_lexer": "ipython3",
      "version": "3.12.11"
    }
  },
  "nbformat": 4,
  "nbformat_minor": 0
}
