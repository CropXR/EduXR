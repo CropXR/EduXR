{
 "cells": [
  {
   "cell_type": "markdown",
   "id": "07b2eb21",
   "metadata": {},
   "source": [
    "### 📝 Learning goals of practical\n",
    "\n",
    "- You can differentiate between marker assistant breeding and genomic selection\n",
    "\n",
    "- You can describe the interaction between computaional methods and plant crosses\n",
    "\n",
    "- You can interpret manhattan plots and breeding schemes, and list their goals\n"
   ]
  },
  {
   "cell_type": "code",
   "execution_count": 4,
   "id": "7906bf8f",
   "metadata": {},
   "outputs": [
    {
     "name": "stdout",
     "output_type": "stream",
     "text": [
      "The autoreload extension is already loaded. To reload it, use:\n",
      "  %reload_ext autoreload\n"
     ]
    }
   ],
   "source": [
    "import sys\n",
    "if \"google.colab\" in sys.modules:\n",
    "    %pip install git+https://github.com/CropXR/EduXR.git\n",
    "else:\n",
    "    %load_ext autoreload\n",
    "    %autoreload 2"
   ]
  },
  {
   "cell_type": "code",
   "execution_count": 2,
   "id": "3269c292",
   "metadata": {},
   "outputs": [
    {
     "name": "stderr",
     "output_type": "stream",
     "text": [
      "2025-09-01 15:33:13.064372: I tensorflow/core/platform/cpu_feature_guard.cc:210] This TensorFlow binary is optimized to use available CPU instructions in performance-critical operations.\n",
      "To enable the following instructions: SSE4.1 SSE4.2 AVX AVX2 FMA, in other operations, rebuild TensorFlow with the appropriate compiler flags.\n"
     ]
    }
   ],
   "source": [
    "from dsplantbreeding.Population import get_agricultural_population, get_natural_population, get_resilient_population\n",
    "from dsplantbreeding.actions import perform_cross_between"
   ]
  },
  {
   "cell_type": "markdown",
   "id": "72bfd3ed",
   "metadata": {},
   "source": [
    "## General introduction\n",
    "We want to breed plants that are salt resistant, but also have a high yield. To study what makes plants salt-resistant we first investigate a large genetically diverse population. "
   ]
  },
  {
   "cell_type": "code",
   "execution_count": 3,
   "id": "d801b202",
   "metadata": {},
   "outputs": [
    {
     "name": "stdout",
     "output_type": "stream",
     "text": [
      "Population has 10 plants and 50 markers.\n",
      "   Marker_0  Marker_1  Marker_2  Marker_3  Marker_4  Marker_5  Marker_6  \\\n",
      "0         1         1         1         0         1         1         1   \n",
      "1         0         0         1         0         1         0         0   \n",
      "2         0         1         1         1         1         0         1   \n",
      "3         0         1         1         0         0         0         1   \n",
      "4         1         1         1         0         0         0         1   \n",
      "\n",
      "   Marker_7  Marker_8  Marker_9  ...  Marker_42  Marker_43  Marker_44  \\\n",
      "0         0         0         0  ...          0          1          1   \n",
      "1         1         1         0  ...          0          0          0   \n",
      "2         1         0         1  ...          1          1          1   \n",
      "3         0         1         0  ...          1          1          0   \n",
      "4         0         1         0  ...          1          0          1   \n",
      "\n",
      "   Marker_45  Marker_46  Marker_47  Marker_48  Marker_49  \\\n",
      "0          0          1          0          0          0   \n",
      "1          0          0          1          0          0   \n",
      "2          1          0          0          0          1   \n",
      "3          0          0          1          1          1   \n",
      "4          0          1          1          1          1   \n",
      "\n",
      "   Salt Resistance (% survival)  Yield (Kg/Ha)  \n",
      "0                     78.976462      12.467448  \n",
      "1                     82.394717       6.180764  \n",
      "2                     27.402806      15.523936  \n",
      "3                     27.221348       5.207685  \n",
      "4                     39.828903      10.775830  \n",
      "\n",
      "[5 rows x 52 columns]\n"
     ]
    }
   ],
   "source": [
    "my_population = get_natural_population(n_plants=10)\n",
    "my_population.show_size()\n",
    "my_population.head()"
   ]
  },
  {
   "cell_type": "markdown",
   "id": "b0f5695a",
   "metadata": {},
   "source": [
    "### ❓Question\n",
    "\n",
    "- What do the rows and columns in the data represent?"
   ]
  },
  {
   "cell_type": "markdown",
   "id": "8ce60bef",
   "metadata": {},
   "source": [
    "Now we perform a GWAS to predict our phenotype based on the markers."
   ]
  },
  {
   "cell_type": "code",
   "execution_count": null,
   "id": "70e44dda",
   "metadata": {},
   "outputs": [],
   "source": [
    "my_population.show_manhattan_plot(to_phenotype='Salt Resistance (% survival)')"
   ]
  },
  {
   "cell_type": "markdown",
   "id": "f044f324",
   "metadata": {},
   "source": [
    "### ❓Questions\n",
    "\n",
    "* What does this plot show?\n",
    "\n",
    "* Why does the population have to be genetically diverse?\n",
    "\n",
    "* What do you think happens to the plot as the size of the population increases?\n",
    "\n",
    "* What marker do you think is most promising? Plot its association to the phenotype by filling in the marker index below.\n"
   ]
  },
  {
   "cell_type": "code",
   "execution_count": null,
   "id": "a11afecb",
   "metadata": {},
   "outputs": [],
   "source": [
    "my_population.show_marker_to_phenotype_relation(marker_location=FILL_IN_MARKER_INDEX, to_phenotype='Salt Resistance (% survival)')"
   ]
  },
  {
   "cell_type": "markdown",
   "id": "45986a48",
   "metadata": {},
   "source": [
    "### ❓Questions\n",
    "\n",
    "* Does the p-value for this marker make sense intuitively?\n",
    "\n",
    "* What do you think happens to the Manhattan plot as the size of the population increases?\n"
   ]
  },
  {
   "cell_type": "markdown",
   "id": "000da83b",
   "metadata": {},
   "source": [
    "Let's try increasing the population. Does the new Manhatten plot match your expectation?"
   ]
  },
  {
   "cell_type": "code",
   "execution_count": null,
   "id": "5880f9d5",
   "metadata": {},
   "outputs": [],
   "source": [
    "my_population = get_natural_population(n_plants=100)\n",
    "my_population.show_manhattan_plot(to_phenotype='Salt Resistance (% survival)')"
   ]
  },
  {
   "cell_type": "markdown",
   "id": "cde51037",
   "metadata": {},
   "source": [
    "Now let's introgress this marker into a high-yielding agricultural plant that farmers already use, but which does not have the desired marker.\n",
    "\n",
    "To do this, we cross this plant with a resilient plant containing the desired marker."
   ]
  },
  {
   "cell_type": "code",
   "execution_count": null,
   "id": "6bf5971f",
   "metadata": {},
   "outputs": [],
   "source": [
    "resilient_population = get_resilient_population()\n",
    "resilient_population.show_size()\n",
    "# Now check if it indeed contains the marker at your location\n",
    "resilient_population.show_marker_at_location(FILL_IN_INDEX)"
   ]
  },
  {
   "cell_type": "code",
   "execution_count": null,
   "id": "cd3b9327",
   "metadata": {},
   "outputs": [],
   "source": [
    "agricultural_population = get_agricultural_population()\n",
    "agricultural_population.show_marker_at_location(FILL_IN_INDEX)"
   ]
  },
  {
   "cell_type": "markdown",
   "id": "568d21f3",
   "metadata": {},
   "source": [
    "Let's check how the two plants differ in phenotype:"
   ]
  },
  {
   "cell_type": "code",
   "execution_count": null,
   "id": "0f60b7ba",
   "metadata": {},
   "outputs": [],
   "source": [
    "# check difference in phenotypes\n",
    "resilient_population.show_all_phenotypes()\n",
    "agricultural_population.show_all_phenotypes()"
   ]
  },
  {
   "cell_type": "markdown",
   "id": "550cd671",
   "metadata": {},
   "source": [
    "Start performing the marker assisted backcrossing."
   ]
  },
  {
   "cell_type": "code",
   "execution_count": null,
   "id": "3870a1db",
   "metadata": {},
   "outputs": [],
   "source": [
    "new_population = perform_cross_between(resilient_population, agricultural_population, n_offspring=10)\n",
    "selected_population = new_population.select_plants_with_marker_at_location(FILL_IN_INDEX, desired_allele=1)\n",
    "selected_population.n_plants"
   ]
  },
  {
   "cell_type": "markdown",
   "id": "12741d45",
   "metadata": {},
   "source": [
    "### 📝 Fill in\n",
    " - This selected offspring should be crossed with what other population? Fill that in below!"
   ]
  },
  {
   "cell_type": "code",
   "execution_count": null,
   "id": "b8d21fa5",
   "metadata": {},
   "outputs": [],
   "source": [
    "backcross_1 = perform_cross_between(selected_population, SELECT_POPULATION_TO_CROSS, n_offspring=10)\n",
    "selected_back1_population = backcross_1.select_plants_with_marker_at_location(FILL_IN_INDEX, desired_allele=1)\n",
    "\n",
    "backcross_2 = perform_cross_between(selected_back1_population, SELECT_POPULATION_TO_CROSS, n_offspring=10)\n",
    "selected_back2_population = backcross_2.select_plants_with_marker_at_location(FILL_IN_INDEX, desired_allele=1)\n",
    "\n",
    "selected_back2_population.show_all_phenotypes()"
   ]
  },
  {
   "cell_type": "markdown",
   "id": "819cea30",
   "metadata": {},
   "source": [
    "### ❓Questions\n",
    "\n",
    "\n",
    "* What is the advantage of selecting each population based on markers, rather than phenotype?\n",
    "\n",
    "* Why do we cross the offspring with the population you filled in above?\n",
    "\n",
    "* How can you see if this breeding was successful? Was it succesful in this case?\n",
    "\n",
    "* What do you expect to happen when we perform breeding without selecting for the markers?"
   ]
  },
  {
   "cell_type": "code",
   "execution_count": null,
   "id": "487d0548",
   "metadata": {},
   "outputs": [],
   "source": [
    "new_population = perform_cross_between(resilient_population, agricultural_population, n_offspring=10)\n",
    "backcross_1 = perform_cross_between(new_population, agricultural_population, n_offspring=10)\n",
    "backcross_2 = perform_cross_between(backcross_1, agricultural_population, n_offspring=10)\n",
    "backcross_2.show_all_phenotypes()"
   ]
  },
  {
   "cell_type": "markdown",
   "id": "5610ce79",
   "metadata": {},
   "source": [
    "How would you apply MAS for predicting yield?\n"
   ]
  },
  {
   "cell_type": "code",
   "execution_count": null,
   "id": "c410a3f1",
   "metadata": {},
   "outputs": [],
   "source": [
    "my_population.show_manhattan_plot(to_phenotype='Yield (Kg/Ha)')"
   ]
  },
  {
   "cell_type": "markdown",
   "id": "f831261e",
   "metadata": {},
   "source": [
    "### ❓Questions\n",
    "* How is this different from the Manhattan plot you saw earlier? \n",
    "\n",
    "* What would this mean for MAS?\n"
   ]
  },
  {
   "cell_type": "markdown",
   "id": "2c92a8e2",
   "metadata": {},
   "source": [
    "\n",
    "## Back to lecture"
   ]
  },
  {
   "cell_type": "markdown",
   "id": "151af7ff",
   "metadata": {},
   "source": [
    "If you have extra time, feel free to attempt using MAS to breed for maximum yield!"
   ]
  }
 ],
 "metadata": {
  "kernelspec": {
   "display_name": "ds_c1",
   "language": "python",
   "name": "python3"
  },
  "language_info": {
   "codemirror_mode": {
    "name": "ipython",
    "version": 3
   },
   "file_extension": ".py",
   "mimetype": "text/x-python",
   "name": "python",
   "nbconvert_exporter": "python",
   "pygments_lexer": "ipython3",
   "version": "3.12.11"
  }
 },
 "nbformat": 4,
 "nbformat_minor": 5
}
