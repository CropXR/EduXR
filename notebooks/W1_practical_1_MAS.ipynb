{
 "cells": [
  {
   "cell_type": "markdown",
   "id": "07b2eb21",
   "metadata": {},
   "source": [
    "<div class=\"alert alert-block alert-info\">\n",
    "<b>Learning goals of practical:</b>\n",
    "\n",
    "- You can differentiate between marker assistant breeding and genomic selection\n",
    "\n",
    "- You can describe the interaction between computaional methods and plant crosses\n",
    "\n",
    "- You can interpret manhattan plots and breeding schemes, and list their goals\n",
    "\n",
    "</div>"
   ]
  },
  {
   "cell_type": "code",
   "execution_count": null,
   "id": "0efcead2",
   "metadata": {},
   "outputs": [],
   "source": [
    "%load_ext autoreload\n",
    "%autoreload 2"
   ]
  },
  {
   "cell_type": "code",
   "execution_count": null,
   "id": "db56890f",
   "metadata": {},
   "outputs": [],
   "source": [
    "%pip install git+https://github.com/CropXR/EduXR.git"
   ]
  },
  {
   "cell_type": "code",
   "execution_count": null,
   "id": "3269c292",
   "metadata": {},
   "outputs": [],
   "source": [
    "from dsplantbreeding.Population import get_agricultural_population, get_natural_population, get_resilient_population\n",
    "from dsplantbreeding.actions import perform_cross_between"
   ]
  },
  {
   "cell_type": "markdown",
   "id": "72bfd3ed",
   "metadata": {},
   "source": [
    "## General introduction\n",
    "We want to breed plants that are salt resistant, but also have a high yield. To study what makes plants salt-resistant we first investigate a large genetically diverse population."
   ]
  },
  {
   "cell_type": "code",
   "execution_count": null,
   "id": "d801b202",
   "metadata": {},
   "outputs": [],
   "source": [
    "my_population = get_natural_population(n_plants=10)\n",
    "my_population.show_size()\n",
    "my_population.head()"
   ]
  },
  {
   "cell_type": "markdown",
   "id": "b0f5695a",
   "metadata": {},
   "source": [
    "<div class=\"alert alert-block alert-success\">\n",
    "<b>Questions:</b>\n",
    "\n",
    "What do the rows and columns in the data represent? \n",
    "\n",
    "\n",
    "</div>"
   ]
  },
  {
   "cell_type": "markdown",
   "id": "8ce60bef",
   "metadata": {},
   "source": [
    "Now we perform a GWAS to predict our phenotype based on the markers."
   ]
  },
  {
   "cell_type": "code",
   "execution_count": null,
   "id": "70e44dda",
   "metadata": {},
   "outputs": [],
   "source": [
    "my_population.show_manhattan_plot(to_phenotype='Salt Resistance')"
   ]
  },
  {
   "cell_type": "code",
   "execution_count": null,
   "id": "a11afecb",
   "metadata": {},
   "outputs": [],
   "source": [
    "my_population.show_marker_to_phenotype_relation(marker_location=12, to_phenotype='Salt Resistance')"
   ]
  },
  {
   "cell_type": "markdown",
   "id": "45986a48",
   "metadata": {},
   "source": [
    "<div class=\"alert alert-block alert-success\">\n",
    "<b>Questions:</b>\n",
    "\n",
    "\n",
    "What does this show? \n",
    "\n",
    "Does it take relations between genes into account?\n",
    "\n",
    "What role does the genetic diversity in the population play?\n",
    "\n",
    "What do you think happens to the plot as the size of the population increases?\n",
    "\n",
    "Does the p-value for marker 12 make sense intuitively?\n",
    "\n",
    "\n",
    "</div>"
   ]
  },
  {
   "cell_type": "markdown",
   "id": "000da83b",
   "metadata": {},
   "source": [
    "Let's try increasing the population. Does it match your expectation?"
   ]
  },
  {
   "cell_type": "code",
   "execution_count": null,
   "id": "5880f9d5",
   "metadata": {},
   "outputs": [],
   "source": [
    "my_population = get_natural_population(n_plants=100)\n",
    "my_population.show_manhattan_plot(to_phenotype='Salt Resistance')"
   ]
  },
  {
   "cell_type": "markdown",
   "id": "cde51037",
   "metadata": {},
   "source": [
    "Now we pick a high-yielding plant (one that farmers already use), but that does not have the desired SNP.\n",
    "\n",
    "To introduce this snp into the high-yielding plant, we cross this plant with a plant containing the desired snp at position 12.\n",
    "Next, we start performing back crosses between the offspring and the parent plant."
   ]
  },
  {
   "cell_type": "code",
   "execution_count": null,
   "id": "6bf5971f",
   "metadata": {},
   "outputs": [],
   "source": [
    "resilient_population = get_resilient_population()\n",
    "resilient_population.show_size()\n",
    "# Now check if it indeed contains the marker at location 12\n",
    "resilient_population.show_marker_at_location(12)"
   ]
  },
  {
   "cell_type": "code",
   "execution_count": null,
   "id": "cd3b9327",
   "metadata": {},
   "outputs": [],
   "source": [
    "agricultural_population = get_agricultural_population()\n",
    "agricultural_population.show_marker_at_location(12)"
   ]
  },
  {
   "cell_type": "markdown",
   "id": "568d21f3",
   "metadata": {},
   "source": [
    "Let's check how the two plants differ in phenotype:"
   ]
  },
  {
   "cell_type": "code",
   "execution_count": null,
   "id": "0f60b7ba",
   "metadata": {},
   "outputs": [],
   "source": [
    "# check difference in phenotypes\n",
    "resilient_population.show_all_phenotypes()\n",
    "agricultural_population.show_all_phenotypes()"
   ]
  },
  {
   "cell_type": "markdown",
   "id": "550cd671",
   "metadata": {},
   "source": [
    "Start performing the marker assisted backcrossing."
   ]
  },
  {
   "cell_type": "code",
   "execution_count": null,
   "id": "3870a1db",
   "metadata": {},
   "outputs": [],
   "source": [
    "new_population = perform_cross_between(resilient_population, agricultural_population, n_offspring=10)\n",
    "selected_population = new_population.select_plants_with_marker_at_location(12, desired_allele=1)\n",
    "selected_population.n_plants"
   ]
  },
  {
   "cell_type": "markdown",
   "id": "12741d45",
   "metadata": {},
   "source": [
    "<div class=\"alert alert-block alert-danger\">\n",
    "This selected offspring should be crossed with what other population? Fill that in here!\n",
    "</div>"
   ]
  },
  {
   "cell_type": "code",
   "execution_count": null,
   "id": "b8d21fa5",
   "metadata": {},
   "outputs": [],
   "source": [
    "backcross_1 = perform_cross_between(selected_population, agricultural_population, n_offspring=10)\n",
    "selected_back1_population = backcross_1.select_plants_with_marker_at_location(12, desired_allele=1)\n",
    "\n",
    "backcross_2 = perform_cross_between(selected_back1_population, agricultural_population, n_offspring=10)\n",
    "selected_back2_population = backcross_2.select_plants_with_marker_at_location(12, desired_allele=1)\n",
    "\n",
    "selected_back2_population.show_all_phenotypes()"
   ]
  },
  {
   "cell_type": "markdown",
   "id": "819cea30",
   "metadata": {},
   "source": [
    "<div class=\"alert alert-block alert-success\">\n",
    "<b>Questions:</b>\n",
    "\n",
    "\n",
    "What is the advantage of selecting each population based on markers, rather than phenotype?\n",
    "\n",
    "Why do we cross the offspring with the population you filled in above?\n",
    "\n",
    "How can you see if this breeding was successful? Was it succesful in this case?\n",
    "\n",
    "What do you expect to happen when we perform breeding without selecting for the markers?\n",
    "</div>"
   ]
  },
  {
   "cell_type": "code",
   "execution_count": null,
   "id": "487d0548",
   "metadata": {},
   "outputs": [],
   "source": [
    "new_population = perform_cross_between(resilient_population, agricultural_population, n_offspring=10)\n",
    "backcross_1 = perform_cross_between(new_population, agricultural_population, n_offspring=10)\n",
    "backcross_2 = perform_cross_between(backcross_1, agricultural_population, n_offspring=10)\n",
    "backcross_2.show_all_phenotypes()"
   ]
  },
  {
   "cell_type": "markdown",
   "id": "5610ce79",
   "metadata": {},
   "source": [
    "How would you apply MAS for predicting yield?\n"
   ]
  },
  {
   "cell_type": "code",
   "execution_count": null,
   "id": "c410a3f1",
   "metadata": {},
   "outputs": [],
   "source": [
    "my_population.show_manhattan_plot(to_phenotype='Yield')"
   ]
  },
  {
   "cell_type": "markdown",
   "id": "f831261e",
   "metadata": {},
   "source": [
    "<div class=\"alert alert-block alert-success\">\n",
    "<b>Questions:</b>\n",
    "\n",
    "How is this different from the Manhattan plot you saw earlier? \n",
    "\n",
    "What would this mean for MAS?\n",
    "</div>"
   ]
  },
  {
   "cell_type": "markdown",
   "id": "2c92a8e2",
   "metadata": {},
   "source": [
    "\n",
    "## Back to lecture"
   ]
  },
  {
   "cell_type": "markdown",
   "id": "151af7ff",
   "metadata": {},
   "source": [
    "If you have extra time, feel free to attempt using MAS to breed for maximum yield!"
   ]
  }
 ],
 "metadata": {
  "kernelspec": {
   "display_name": "ds_c1",
   "language": "python",
   "name": "python3"
  },
  "language_info": {
   "codemirror_mode": {
    "name": "ipython",
    "version": 3
   },
   "file_extension": ".py",
   "mimetype": "text/x-python",
   "name": "python",
   "nbconvert_exporter": "python",
   "pygments_lexer": "ipython3",
   "version": "3.12.11"
  }
 },
 "nbformat": 4,
 "nbformat_minor": 5
}
