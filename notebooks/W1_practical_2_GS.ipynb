{
 "cells": [
  {
   "cell_type": "markdown",
   "id": "021aad62",
   "metadata": {},
   "source": [
    "# Genomic selection"
   ]
  },
  {
   "cell_type": "markdown",
   "id": "fe4c3498",
   "metadata": {},
   "source": [
    "Complex traits such as yield are controlled by many small-effect genes. How do we select for so many genes simulateously, while each gene only contributes a tiny %? Genomic selection!"
   ]
  },
  {
   "cell_type": "code",
   "execution_count": null,
   "id": "2e16d626",
   "metadata": {},
   "outputs": [],
   "source": [
    "%load_ext autoreload\n",
    "%autoreload 2\n",
    "%pip install git+https://github.com/CropXR/EduXR.git"
   ]
  },
  {
   "cell_type": "code",
   "execution_count": null,
   "id": "82e7f2b0",
   "metadata": {},
   "outputs": [],
   "source": [
    "from dsplantbreeding.Population import get_agricultural_population, get_natural_population, get_resilient_population\n",
    "from dsplantbreeding.actions import perform_cross_between"
   ]
  },
  {
   "cell_type": "code",
   "execution_count": null,
   "id": "c4d36c69",
   "metadata": {},
   "outputs": [],
   "source": [
    "natural_population = get_natural_population(n_plants=50, n_markers=50)\n",
    "natural_population.show_all_phenotypes()"
   ]
  },
  {
   "cell_type": "code",
   "execution_count": null,
   "id": "02d722ff",
   "metadata": {},
   "outputs": [],
   "source": [
    "natural_population.show_manhattan_plot(to_phenotype='Yield (Kg/Ha)')"
   ]
  },
  {
   "cell_type": "markdown",
   "id": "61c1c11c",
   "metadata": {},
   "source": [
    "### ❓Question\n",
    "\n",
    "* Why would marker assisted selection not be (easily) applicable here? What underlying biology causes this difference?\n",
    "\n"
   ]
  },
  {
   "cell_type": "code",
   "execution_count": null,
   "id": "41519805",
   "metadata": {},
   "outputs": [],
   "source": [
    "genomic_selection_model = natural_population.fit_gs_model(target_phenotype='Yield (Kg/Ha)')"
   ]
  },
  {
   "cell_type": "code",
   "execution_count": null,
   "id": "ad01cb59",
   "metadata": {},
   "outputs": [],
   "source": [
    "genomic_selection_model.show_genomic_selection_marker_weights()"
   ]
  },
  {
   "cell_type": "markdown",
   "id": "dfb32e0f",
   "metadata": {},
   "source": [
    "### ❓Question\n",
    "\n",
    "* How is this plot different from a Manhattan plot?"
   ]
  },
  {
   "cell_type": "code",
   "execution_count": null,
   "id": "c8fe483e",
   "metadata": {},
   "outputs": [],
   "source": [
    "genomic_selection_model.predicted_vs_actual_training_population()"
   ]
  },
  {
   "cell_type": "markdown",
   "id": "f18e21d3",
   "metadata": {},
   "source": [
    "### ❓Question\n",
    "\n",
    "* Why can the model not perfectly predict the phenotype?\n",
    "\n"
   ]
  },
  {
   "cell_type": "code",
   "execution_count": null,
   "id": "a37d178e",
   "metadata": {},
   "outputs": [],
   "source": [
    "predicted_values = genomic_selection_model.predict_phenotypes(natural_population) \n",
    "new_population = natural_population.select_plants_from_predicted_values(predicted_values, ntop=2)\n",
    "new_population.n_plants"
   ]
  },
  {
   "cell_type": "code",
   "execution_count": null,
   "id": "48b4b66f",
   "metadata": {},
   "outputs": [],
   "source": [
    "f1 = perform_cross_between(new_population, new_population, n_offspring=10)\n",
    "\n",
    "f1_gebv = genomic_selection_model.predict_phenotypes(f1) \n",
    "# Predicted phenotypes are called GEBV (Genomically Estimated Breeding Values)\n",
    "\n",
    "selected_f1 = f1.select_plants_from_predicted_values(f1_gebv, ntop=2)\n",
    "\n",
    "f2 = perform_cross_between(selected_f1, selected_f1, n_offspring=10)\n",
    "\n",
    "# Now select plants based on highest values\n",
    "f2.show_phenotype('Yield (Kg/Ha)')\n",
    "# This allows us to maximise for traits that are controlled by many genes."
   ]
  },
  {
   "cell_type": "markdown",
   "id": "34a3edf4",
   "metadata": {},
   "source": [
    "And again compare to randomly crossing:"
   ]
  },
  {
   "cell_type": "code",
   "execution_count": null,
   "id": "d5198225",
   "metadata": {},
   "outputs": [],
   "source": [
    "natural_population = get_natural_population()\n",
    "f1 = perform_cross_between(natural_population, natural_population, n_offspring=10)\n",
    "f2 = perform_cross_between(f1, f1, n_offspring=10)\n",
    "f2.show_phenotype('Yield (Kg/Ha)')"
   ]
  },
  {
   "cell_type": "markdown",
   "id": "8db2f018",
   "metadata": {},
   "source": [
    "### ❓Question\n",
    "\n",
    "* Do you think genomic selection also works for monogenic traits? Why would or wouldn't it?\n",
    "* What are the limitations of genomic selection?\n"
   ]
  }
 ],
 "metadata": {
  "kernelspec": {
   "display_name": "ds_c1",
   "language": "python",
   "name": "python3"
  },
  "language_info": {
   "codemirror_mode": {
    "name": "ipython",
    "version": 3
   },
   "file_extension": ".py",
   "mimetype": "text/x-python",
   "name": "python",
   "nbconvert_exporter": "python",
   "pygments_lexer": "ipython3",
   "version": "3.12.11"
  }
 },
 "nbformat": 4,
 "nbformat_minor": 5
}
